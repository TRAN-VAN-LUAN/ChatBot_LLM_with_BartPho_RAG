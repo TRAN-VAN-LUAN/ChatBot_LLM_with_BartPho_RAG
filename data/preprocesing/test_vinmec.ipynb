{
 "cells": [
  {
   "cell_type": "code",
   "execution_count": null,
   "id": "1d015501",
   "metadata": {},
   "outputs": [],
   "source": []
  },
  {
   "cell_type": "code",
   "execution_count": 2,
   "id": "55451267",
   "metadata": {},
   "outputs": [
    {
     "data": {
      "text/html": [
       "<div>\n",
       "<style scoped>\n",
       "    .dataframe tbody tr th:only-of-type {\n",
       "        vertical-align: middle;\n",
       "    }\n",
       "\n",
       "    .dataframe tbody tr th {\n",
       "        vertical-align: top;\n",
       "    }\n",
       "\n",
       "    .dataframe thead th {\n",
       "        text-align: right;\n",
       "    }\n",
       "</style>\n",
       "<table border=\"1\" class=\"dataframe\">\n",
       "  <thead>\n",
       "    <tr style=\"text-align: right;\">\n",
       "      <th></th>\n",
       "      <th>question</th>\n",
       "      <th>context</th>\n",
       "      <th>answer</th>\n",
       "    </tr>\n",
       "  </thead>\n",
       "  <tbody>\n",
       "    <tr>\n",
       "      <th>0</th>\n",
       "      <td>tại_sao khoa nhi lại quan_trọng trong 47 hội_c...</td>\n",
       "      <td>khoa_nhi của 47 hội_chứng xyy là hội_chứng xyy...</td>\n",
       "      <td>khoa_nhi của 47 hội_chứng xyy là hội_chứng xyy...</td>\n",
       "    </tr>\n",
       "    <tr>\n",
       "      <th>1</th>\n",
       "      <td>liệu hội_chứng có vai_trò gì trong 47 hội_chứn...</td>\n",
       "      <td>khoa_nhi của 47 hội_chứng xyy là hội_chứng xyy...</td>\n",
       "      <td>47 hội_chứng xyy là sự hiện_diện của hai nhiễm...</td>\n",
       "    </tr>\n",
       "    <tr>\n",
       "      <th>2</th>\n",
       "      <td>sự kết_hợp giữa xyy và xyy có_thể sắc thể như ...</td>\n",
       "      <td>khoa_nhi của 47 hội_chứng xyy là hội_chứng xyy...</td>\n",
       "      <td>47 hội_chứng xyy là sự hiện_diện của hai nhiễm...</td>\n",
       "    </tr>\n",
       "    <tr>\n",
       "      <th>3</th>\n",
       "      <td>tại_sao hành_vi lại quan_trọng trong 47 hội_ch...</td>\n",
       "      <td>khoa_nhi của 47 hội_chứng xyy là hội_chứng xyy...</td>\n",
       "      <td>rối_loạn hành_vi nhẹ tăng động rối_loạn thiếu ...</td>\n",
       "    </tr>\n",
       "    <tr>\n",
       "      <th>4</th>\n",
       "      <td>sự kết_hợp giữa động và động có_thể học_tập nh...</td>\n",
       "      <td>khoa_nhi của 47 hội_chứng xyy là hội_chứng xyy...</td>\n",
       "      <td>rối_loạn hành_vi nhẹ tăng động rối_loạn thiếu ...</td>\n",
       "    </tr>\n",
       "  </tbody>\n",
       "</table>\n",
       "</div>"
      ],
      "text/plain": [
       "                                            question  \\\n",
       "0  tại_sao khoa nhi lại quan_trọng trong 47 hội_c...   \n",
       "1  liệu hội_chứng có vai_trò gì trong 47 hội_chứn...   \n",
       "2  sự kết_hợp giữa xyy và xyy có_thể sắc thể như ...   \n",
       "3  tại_sao hành_vi lại quan_trọng trong 47 hội_ch...   \n",
       "4  sự kết_hợp giữa động và động có_thể học_tập nh...   \n",
       "\n",
       "                                             context  \\\n",
       "0  khoa_nhi của 47 hội_chứng xyy là hội_chứng xyy...   \n",
       "1  khoa_nhi của 47 hội_chứng xyy là hội_chứng xyy...   \n",
       "2  khoa_nhi của 47 hội_chứng xyy là hội_chứng xyy...   \n",
       "3  khoa_nhi của 47 hội_chứng xyy là hội_chứng xyy...   \n",
       "4  khoa_nhi của 47 hội_chứng xyy là hội_chứng xyy...   \n",
       "\n",
       "                                              answer  \n",
       "0  khoa_nhi của 47 hội_chứng xyy là hội_chứng xyy...  \n",
       "1  47 hội_chứng xyy là sự hiện_diện của hai nhiễm...  \n",
       "2  47 hội_chứng xyy là sự hiện_diện của hai nhiễm...  \n",
       "3  rối_loạn hành_vi nhẹ tăng động rối_loạn thiếu ...  \n",
       "4  rối_loạn hành_vi nhẹ tăng động rối_loạn thiếu ...  "
      ]
     },
     "execution_count": 2,
     "metadata": {},
     "output_type": "execute_result"
    }
   ],
   "source": [
    "import pandas as pd\n",
    "\n",
    "df = pd.read_csv('E:/university/TLCN/ChatBot/data/csv/processed_msd_qa_data.csv')\n",
    "df.head()"
   ]
  },
  {
   "cell_type": "code",
   "execution_count": 5,
   "id": "7a1d9781",
   "metadata": {},
   "outputs": [
    {
     "data": {
      "text/plain": [
       "['tại_sao khoa nhi lại quan_trọng trong 47 hội_chứng xyy',\n",
       " 'liệu hội_chứng có vai_trò gì trong 47 hội_chứng xyy không',\n",
       " 'sự kết_hợp giữa xyy và xyy có_thể sắc thể như thế_nào trong 47 hội_chứng xyy',\n",
       " 'tại_sao hành_vi lại quan_trọng trong 47 hội_chứng xyy',\n",
       " 'sự kết_hợp giữa động và động có_thể học_tập như thế_nào trong 47 hội_chứng xyy']"
      ]
     },
     "execution_count": 5,
     "metadata": {},
     "output_type": "execute_result"
    }
   ],
   "source": [
    "df['question'][:5].tolist()"
   ]
  },
  {
   "cell_type": "code",
   "execution_count": 5,
   "id": "0c4389ff",
   "metadata": {},
   "outputs": [
    {
     "data": {
      "text/plain": [
       "['viêm cân gan chân là tình trạng viêm của cân bàn chân gây đau gót gân và ảnh hưởng không nhỏ đến sinh hoạt hằng ngày của người bệnh. Nguyên nhân gây ra viêm cân gan chân là: tác nhân tác động làm chấn thương lên cơ gan bàn chân, áp lực của cơ thể do đi lại nhiều, đứng lâu hoặc sử dụng giày dép đế quá cứng trong thời gian kéo dài. Triệu chứng của viêm cân gan chân bao gồm: đau lặp đi lặp lại nhiều lần, về lâu có thể xuất hiện cả khi nghỉ ngơi, sưng, bầm tím gan bàn chân, đau buốt hay đau âm ỉ, đau nhiều ở gót chân, nhất là vào lúc sáng sớm mới ngủ dậy',\n",
       " 'viêm cân gan chân là tình trạng viêm của cân bàn chân gây đau gót gân và ảnh hưởng không nhỏ đến sinh hoạt hằng ngày của người bệnh. Nguyên nhân gây ra viêm cân gan chân là: tác nhân tác động làm chấn thương lên cơ gan bàn chân, áp lực của cơ thể do đi lại nhiều, đứng lâu hoặc sử dụng giày dép đế quá cứng trong thời gian kéo dài. Triệu chứng của viêm cân gan chân bao gồm: đau lặp đi lặp lại nhiều lần, về lâu có thể xuất hiện cả khi nghỉ ngơi, sưng, bầm tím gan bàn chân, đau buốt hay đau âm ỉ, đau nhiều ở gót chân, nhất là vào lúc sáng sớm mới ngủ dậy',\n",
       " 'viêm cân gan chân là tình trạng viêm của cân bàn chân gây đau gót gân và ảnh hưởng không nhỏ đến sinh hoạt hằng ngày của người bệnh. Nguyên nhân gây ra viêm cân gan chân là: tác nhân tác động làm chấn thương lên cơ gan bàn chân, áp lực của cơ thể do đi lại nhiều, đứng lâu hoặc sử dụng giày dép đế quá cứng trong thời gian kéo dài. Triệu chứng của viêm cân gan chân bao gồm: đau lặp đi lặp lại nhiều lần, về lâu có thể xuất hiện cả khi nghỉ ngơi, sưng, bầm tím gan bàn chân, đau buốt hay đau âm ỉ, đau nhiều ở gót chân, nhất là vào lúc sáng sớm mới ngủ dậy',\n",
       " 'viêm cân gan chân là tình trạng viêm của cân bàn chân gây đau gót gân và ảnh hưởng không nhỏ đến sinh hoạt hằng ngày của người bệnh. Nguyên nhân gây ra viêm cân gan chân là: tác nhân tác động làm chấn thương lên cơ gan bàn chân, áp lực của cơ thể do đi lại nhiều, đứng lâu hoặc sử dụng giày dép đế quá cứng trong thời gian kéo dài. Triệu chứng của viêm cân gan chân bao gồm: đau lặp đi lặp lại nhiều lần, về lâu có thể xuất hiện cả khi nghỉ ngơi, sưng, bầm tím gan bàn chân, đau buốt hay đau âm ỉ, đau nhiều ở gót chân, nhất là vào lúc sáng sớm mới ngủ dậy',\n",
       " 'viêm cân gan chân là tình trạng viêm của cân bàn chân gây đau gót gân và ảnh hưởng không nhỏ đến sinh hoạt hằng ngày của người bệnh. Nguyên nhân gây ra viêm cân gan chân là: tác nhân tác động làm chấn thương lên cơ gan bàn chân, áp lực của cơ thể do đi lại nhiều, đứng lâu hoặc sử dụng giày dép đế quá cứng trong thời gian kéo dài. Triệu chứng của viêm cân gan chân bao gồm: đau lặp đi lặp lại nhiều lần, về lâu có thể xuất hiện cả khi nghỉ ngơi, sưng, bầm tím gan bàn chân, đau buốt hay đau âm ỉ, đau nhiều ở gót chân, nhất là vào lúc sáng sớm mới ngủ dậy']"
      ]
     },
     "execution_count": 5,
     "metadata": {},
     "output_type": "execute_result"
    }
   ],
   "source": [
    "df['context'][:5].to_list()"
   ]
  }
 ],
 "metadata": {
  "kernelspec": {
   "display_name": "venv",
   "language": "python",
   "name": "python3"
  },
  "language_info": {
   "codemirror_mode": {
    "name": "ipython",
    "version": 3
   },
   "file_extension": ".py",
   "mimetype": "text/x-python",
   "name": "python",
   "nbconvert_exporter": "python",
   "pygments_lexer": "ipython3",
   "version": "3.9.11"
  }
 },
 "nbformat": 4,
 "nbformat_minor": 5
}
