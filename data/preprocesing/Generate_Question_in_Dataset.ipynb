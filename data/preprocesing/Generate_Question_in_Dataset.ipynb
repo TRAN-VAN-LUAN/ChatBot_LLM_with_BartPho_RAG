{
  "nbformat": 4,
  "nbformat_minor": 0,
  "metadata": {
    "colab": {
      "provenance": []
    },
    "kernelspec": {
      "name": "python3",
      "display_name": "Python 3"
    },
    "language_info": {
      "name": "python"
    }
  },
  "cells": [
    {
      "cell_type": "code",
      "execution_count": null,
      "metadata": {
        "colab": {
          "base_uri": "https://localhost:8080/"
        },
        "id": "QSoEnxnHM-Gp",
        "outputId": "b9ff96fd-2ef8-4c93-f0f9-b9fbae6a26de"
      },
      "outputs": [
        {
          "output_type": "stream",
          "name": "stdout",
          "text": [
            "Mounted at /content/drive\n"
          ]
        }
      ],
      "source": [
        "from google.colab import drive\n",
        "drive.mount('/content/drive')\n",
        "#/content/drive/MyDrive/"
      ]
    },
    {
      "cell_type": "markdown",
      "source": [
        "# Import Thư viện"
      ],
      "metadata": {
        "id": "hOItPMD3NDje"
      }
    },
    {
      "cell_type": "code",
      "source": [
        "!pip install underthesea -q"
      ],
      "metadata": {
        "id": "2Dx_yAO7Qg81",
        "colab": {
          "base_uri": "https://localhost:8080/"
        },
        "outputId": "8f4b4a08-9311-415f-c0a6-c82c9f5071d4"
      },
      "execution_count": null,
      "outputs": [
        {
          "output_type": "stream",
          "name": "stdout",
          "text": [
            "Collecting underthesea\n",
            "  Downloading underthesea-6.8.4-py3-none-any.whl.metadata (15 kB)\n",
            "Requirement already satisfied: Click>=6.0 in /usr/local/lib/python3.11/dist-packages (from underthesea) (8.1.8)\n",
            "Collecting python-crfsuite>=0.9.6 (from underthesea)\n",
            "  Downloading python_crfsuite-0.9.11-cp311-cp311-manylinux_2_17_x86_64.manylinux2014_x86_64.whl.metadata (4.3 kB)\n",
            "Requirement already satisfied: nltk in /usr/local/lib/python3.11/dist-packages (from underthesea) (3.9.1)\n",
            "Requirement already satisfied: tqdm in /usr/local/lib/python3.11/dist-packages (from underthesea) (4.67.1)\n",
            "Requirement already satisfied: requests in /usr/local/lib/python3.11/dist-packages (from underthesea) (2.32.3)\n",
            "Requirement already satisfied: joblib in /usr/local/lib/python3.11/dist-packages (from underthesea) (1.4.2)\n",
            "Requirement already satisfied: scikit-learn in /usr/local/lib/python3.11/dist-packages (from underthesea) (1.6.1)\n",
            "Requirement already satisfied: PyYAML in /usr/local/lib/python3.11/dist-packages (from underthesea) (6.0.2)\n",
            "Collecting underthesea-core==1.0.4 (from underthesea)\n",
            "  Downloading underthesea_core-1.0.4-cp311-cp311-manylinux2010_x86_64.whl.metadata (1.7 kB)\n",
            "Requirement already satisfied: regex>=2021.8.3 in /usr/local/lib/python3.11/dist-packages (from nltk->underthesea) (2024.11.6)\n",
            "Requirement already satisfied: charset-normalizer<4,>=2 in /usr/local/lib/python3.11/dist-packages (from requests->underthesea) (3.4.1)\n",
            "Requirement already satisfied: idna<4,>=2.5 in /usr/local/lib/python3.11/dist-packages (from requests->underthesea) (3.10)\n",
            "Requirement already satisfied: urllib3<3,>=1.21.1 in /usr/local/lib/python3.11/dist-packages (from requests->underthesea) (2.3.0)\n",
            "Requirement already satisfied: certifi>=2017.4.17 in /usr/local/lib/python3.11/dist-packages (from requests->underthesea) (2025.1.31)\n",
            "Requirement already satisfied: numpy>=1.19.5 in /usr/local/lib/python3.11/dist-packages (from scikit-learn->underthesea) (2.0.2)\n",
            "Requirement already satisfied: scipy>=1.6.0 in /usr/local/lib/python3.11/dist-packages (from scikit-learn->underthesea) (1.14.1)\n",
            "Requirement already satisfied: threadpoolctl>=3.1.0 in /usr/local/lib/python3.11/dist-packages (from scikit-learn->underthesea) (3.6.0)\n",
            "Downloading underthesea-6.8.4-py3-none-any.whl (20.9 MB)\n",
            "\u001b[2K   \u001b[90m━━━━━━━━━━━━━━━━━━━━━━━━━━━━━━━━━━━━━━━━\u001b[0m \u001b[32m20.9/20.9 MB\u001b[0m \u001b[31m44.8 MB/s\u001b[0m eta \u001b[36m0:00:00\u001b[0m\n",
            "\u001b[?25hDownloading underthesea_core-1.0.4-cp311-cp311-manylinux2010_x86_64.whl (657 kB)\n",
            "\u001b[2K   \u001b[90m━━━━━━━━━━━━━━━━━━━━━━━━━━━━━━━━━━━━━━━━\u001b[0m \u001b[32m657.8/657.8 kB\u001b[0m \u001b[31m28.9 MB/s\u001b[0m eta \u001b[36m0:00:00\u001b[0m\n",
            "\u001b[?25hDownloading python_crfsuite-0.9.11-cp311-cp311-manylinux_2_17_x86_64.manylinux2014_x86_64.whl (1.3 MB)\n",
            "\u001b[2K   \u001b[90m━━━━━━━━━━━━━━━━━━━━━━━━━━━━━━━━━━━━━━━━\u001b[0m \u001b[32m1.3/1.3 MB\u001b[0m \u001b[31m40.7 MB/s\u001b[0m eta \u001b[36m0:00:00\u001b[0m\n",
            "\u001b[?25hInstalling collected packages: underthesea-core, python-crfsuite, underthesea\n",
            "Successfully installed python-crfsuite-0.9.11 underthesea-6.8.4 underthesea-core-1.0.4\n"
          ]
        }
      ]
    },
    {
      "cell_type": "code",
      "source": [
        "!pip install pyvi -q"
      ],
      "metadata": {
        "id": "BxyGVlTnk2tp",
        "outputId": "eb1ac825-9b09-43a5-96f3-b7b31d2f048b",
        "colab": {
          "base_uri": "https://localhost:8080/"
        }
      },
      "execution_count": null,
      "outputs": [
        {
          "output_type": "stream",
          "name": "stdout",
          "text": [
            "\u001b[2K   \u001b[90m━━━━━━━━━━━━━━━━━━━━━━━━━━━━━━━━━━━━━━━━\u001b[0m \u001b[32m8.5/8.5 MB\u001b[0m \u001b[31m25.5 MB/s\u001b[0m eta \u001b[36m0:00:00\u001b[0m\n",
            "\u001b[?25h"
          ]
        }
      ]
    },
    {
      "cell_type": "code",
      "source": [
        "import re\n",
        "import pandas as pd\n",
        "from underthesea import pos_tag\n",
        "import random\n",
        "from pyvi import ViTokenizer, ViPosTagger  # Giả sử bạn sử dụng pyvi để phân tích ngữ pháp"
      ],
      "metadata": {
        "id": "5kczdoRXNCeo"
      },
      "execution_count": null,
      "outputs": []
    },
    {
      "cell_type": "code",
      "source": [
        "# Đọc dữ liệu từ file CSV hoặc JSON\n",
        "df = pd.read_csv('/content/drive/MyDrive/ChatBot/data/processed_medical_cleaned.csv')  # Thay đổi đường dẫn đến tập dữ liệu của bạn\n",
        "\n",
        "# Kiểm tra dữ liệu\n",
        "df.head()\n",
        "\n",
        "\n"
      ],
      "metadata": {
        "colab": {
          "base_uri": "https://localhost:8080/",
          "height": 219
        },
        "id": "CuT8iicuNCha",
        "outputId": "1f3b37d9-8d3f-494d-ede1-836de14fae6e"
      },
      "execution_count": 1,
      "outputs": [
        {
          "output_type": "error",
          "ename": "NameError",
          "evalue": "name 'pd' is not defined",
          "traceback": [
            "\u001b[0;31m---------------------------------------------------------------------------\u001b[0m",
            "\u001b[0;31mNameError\u001b[0m                                 Traceback (most recent call last)",
            "\u001b[0;32m<ipython-input-1-84dfa2c80cbb>\u001b[0m in \u001b[0;36m<cell line: 0>\u001b[0;34m()\u001b[0m\n\u001b[1;32m      1\u001b[0m \u001b[0;31m# Đọc dữ liệu từ file CSV hoặc JSON\u001b[0m\u001b[0;34m\u001b[0m\u001b[0;34m\u001b[0m\u001b[0m\n\u001b[0;32m----> 2\u001b[0;31m \u001b[0mdf\u001b[0m \u001b[0;34m=\u001b[0m \u001b[0mpd\u001b[0m\u001b[0;34m.\u001b[0m\u001b[0mread_csv\u001b[0m\u001b[0;34m(\u001b[0m\u001b[0;34m'/content/drive/MyDrive/ChatBot/data/processed_medical_cleaned.csv'\u001b[0m\u001b[0;34m)\u001b[0m  \u001b[0;31m# Thay đổi đường dẫn đến tập dữ liệu của bạn\u001b[0m\u001b[0;34m\u001b[0m\u001b[0;34m\u001b[0m\u001b[0m\n\u001b[0m\u001b[1;32m      3\u001b[0m \u001b[0;34m\u001b[0m\u001b[0m\n\u001b[1;32m      4\u001b[0m \u001b[0;31m# Kiểm tra dữ liệu\u001b[0m\u001b[0;34m\u001b[0m\u001b[0;34m\u001b[0m\u001b[0m\n\u001b[1;32m      5\u001b[0m \u001b[0mdf\u001b[0m\u001b[0;34m.\u001b[0m\u001b[0mhead\u001b[0m\u001b[0;34m(\u001b[0m\u001b[0;34m)\u001b[0m\u001b[0;34m\u001b[0m\u001b[0;34m\u001b[0m\u001b[0m\n",
            "\u001b[0;31mNameError\u001b[0m: name 'pd' is not defined"
          ]
        }
      ]
    },
    {
      "cell_type": "code",
      "source": [
        "# Hàm để chia văn bản thành các câu, bỏ qua câu bắt đầu bằng \"Ví dụ\" và các câu ngắn\n",
        "def split_into_sentences(text, min_length=20):\n",
        "    # Kiểm tra xem text có phải là chuỗi không và xử lý NaN\n",
        "    if isinstance(text, str):\n",
        "        # Tách văn bản theo dấu chấm câu như \".\", \"!\", \"?\" và giữ lại dấu câu\n",
        "        sentences = re.split(r'(?<=[.!?]) +', text)\n",
        "        # Loại bỏ câu bắt đầu bằng \"ví_dụ\" và các câu ngắn hơn độ dài tối thiểu\n",
        "        filtered_sentences = [sentence for sentence in sentences\n",
        "                              if not sentence.strip().startswith(\"ví_dụ\")\n",
        "                              and len(sentence.strip()) > min_length]\n",
        "        return filtered_sentences\n",
        "    else:\n",
        "        # Trả về danh sách rỗng nếu text không phải là chuỗi hoặc là NaN\n",
        "        return []"
      ],
      "metadata": {
        "id": "XL9KpiLKNCkN"
      },
      "execution_count": null,
      "outputs": []
    },
    {
      "cell_type": "code",
      "source": [
        "df.shape"
      ],
      "metadata": {
        "colab": {
          "base_uri": "https://localhost:8080/"
        },
        "id": "KB7t88IPTyZe",
        "outputId": "4c0aff38-7496-4c1d-f204-003e1d12abb5"
      },
      "execution_count": null,
      "outputs": [
        {
          "output_type": "execute_result",
          "data": {
            "text/plain": [
              "(11892, 6)"
            ]
          },
          "metadata": {},
          "execution_count": 67
        }
      ]
    },
    {
      "cell_type": "markdown",
      "source": [
        "# Pos (NLP – Part of Speech)"
      ],
      "metadata": {
        "id": "uMQcGKrGQm8d"
      }
    },
    {
      "cell_type": "code",
      "source": [
        "def load_top_words(filepath):\n",
        "    with open(filepath, 'r', encoding='utf-8') as f:\n",
        "        top_words = set([line.strip() for line in f])  # Đọc từng dòng và lưu vào một tập hợp\n",
        "    return top_words\n",
        "\n",
        "# Đọc danh sách các từ từ file top_word.txt\n",
        "top_words = load_top_words('/content/drive/MyDrive/ChatBox/data/vietnamese-stopwords-dash.txt')\n"
      ],
      "metadata": {
        "id": "0gfHJ-8ZztOe"
      },
      "execution_count": null,
      "outputs": []
    },
    {
      "cell_type": "code",
      "source": [
        "import nltk\n",
        "from nltk.corpus import words\n",
        "\n",
        "# Tải danh sách từ tiếng Anh từ NLTK\n",
        "nltk.download('words')\n",
        "english_words = set(words.words())"
      ],
      "metadata": {
        "colab": {
          "base_uri": "https://localhost:8080/"
        },
        "id": "c0hNnXmPNS_P",
        "outputId": "ce88b180-7efb-444c-a5d9-08d3c1f9ef53"
      },
      "execution_count": null,
      "outputs": [
        {
          "output_type": "stream",
          "name": "stderr",
          "text": [
            "[nltk_data] Downloading package words to /root/nltk_data...\n",
            "[nltk_data]   Package words is already up-to-date!\n"
          ]
        }
      ]
    },
    {
      "cell_type": "code",
      "source": [
        "# def remove_english_keywords(keywords):\n",
        "#     filtered_keywords = {}\n",
        "\n",
        "#     for key in keywords:\n",
        "#         filtered_keywords[key] = [word for word in keywords[key] if word not in english_words]\n",
        "\n",
        "#     return filtered_keywords"
      ],
      "metadata": {
        "id": "qopbrhyKNYEu"
      },
      "execution_count": null,
      "outputs": []
    },
    {
      "cell_type": "code",
      "source": [
        "def extract_keywords(sentence, top_words_file):\n",
        "    # Tiền xử lý câu để loại bỏ các ký tự không cần thiết\n",
        "    sentence = re.sub(r'[^\\w\\s]', '', sentence)  # Loại bỏ dấu câu và ký tự đặc biệt\n",
        "\n",
        "    # Gán nhãn POS cho các từ trong câu\n",
        "    pos_tags = ViPosTagger.postagging(ViTokenizer.tokenize(sentence))\n",
        "\n",
        "    # Tạo danh sách chứa từ và nhãn của nó\n",
        "    tagged_words = [(word, pos) for word, pos in zip(pos_tags[0], pos_tags[1])]\n",
        "\n",
        "    # Chỉ giữ lại danh từ (N), động từ (V), tính từ (A), đại từ (P)\n",
        "    keywords = []\n",
        "    for word, pos in tagged_words:\n",
        "        if (pos.startswith('N') or pos.startswith('V') or pos.startswith('A') or pos.startswith('P')) and len(word) > 1:\n",
        "            keywords.append((word, pos))  # Giữ nguyên thứ tự\n",
        "\n",
        "    # Loại bỏ các từ dừng (stop words)\n",
        "    stop_words = set(['và', 'hoặc', 'của', 'trong', 'theo', 'là', 'có', 'ví_dụ'])\n",
        "    keywords = [(word, pos) for word, pos in keywords if word not in stop_words]\n",
        "\n",
        "    # Loại bỏ các từ có trong top_words\n",
        "    keywords = [(word, pos) for word, pos in keywords if word not in top_words_file]\n",
        "\n",
        "    return keywords\n"
      ],
      "metadata": {
        "id": "v-g1zqVnVxdN"
      },
      "execution_count": null,
      "outputs": []
    },
    {
      "cell_type": "code",
      "source": [
        "def generate_questions_with_title(keywords, title, top_words, use_keywords_from_title=False):\n",
        "    templates = {\n",
        "        'C→Vđ': \"Tại sao {noun} lại {verb} trong bối cảnh của {title}?\",\n",
        "        'C→Vq−B': \"Những yếu tố nào ảnh hưởng đến {noun} khi {verb} trong {title}?\",\n",
        "        'Tr→Vt−B': \"Liệu {noun} có vai trò gì trong {title} không?\",\n",
        "        'xV→yV’': \"Nếu {noun} {verb}, điều này có ý nghĩa gì cho {title}?\",\n",
        "        'V→C': \"{verb} {noun} có ảnh hưởng như thế nào đến {title}?\",\n",
        "        'C→A': \"Tính chất của {noun} có ảnh hưởng đến {title} ra sao?\",\n",
        "        'N→V': \"Tại sao {noun} lại cần {verb} trong {title}?\",\n",
        "        'N+N→V': \"Sự kết hợp giữa {noun} và {noun} có thể {verb} như thế nào trong {title}?\",\n",
        "        'C→Vh': \"Có thể nói gì về việc {noun} {verb} trong {title}?\",\n",
        "        'Tại sao...': \"Tại sao {noun} lại quan trọng trong {title}?\",\n",
        "        'V→C+N': \"{verb} {title} có liên quan đến {noun} như thế nào?\",\n",
        "    }\n",
        "\n",
        "    questions = []\n",
        "    nouns = keywords['nouns']\n",
        "    verbs = keywords['verbs']\n",
        "    adjectives = keywords['adjectives']\n",
        "\n",
        "    # Xử lý tiêu đề\n",
        "    if use_keywords_from_title:\n",
        "        title_keywords = extract_keywords(title, top_words)\n",
        "        title_noun = next((word for word, pos in title_keywords if pos.startswith('N')), title)\n",
        "        title = title_noun\n",
        "    else:\n",
        "        title = title.strip()\n",
        "\n",
        "    # Lấy từ khóa đầu tiên\n",
        "    main_noun = nouns[0] if nouns else 'vật chất'\n",
        "    main_verb = verbs[0] if verbs else 'hỗ trợ'\n",
        "\n",
        "    # Tạo câu hỏi với từ khóa đầu tiên từ template ngẫu nhiên\n",
        "    question_template = random.choice(list(templates.values()))\n",
        "    question = question_template.format(noun=main_noun, verb=main_verb, title=title)\n",
        "    questions.append(question)\n",
        "\n",
        "    # Tạo tối đa 2 câu hỏi bổ sung với danh từ và động từ còn lại\n",
        "    additional_questions = 0\n",
        "    for i in range(1, min(len(nouns), len(verbs))):\n",
        "        if additional_questions < 2:  # Giới hạn số lượng câu hỏi bổ sung\n",
        "            question_template = random.choice(list(templates.values()))\n",
        "            question = question_template.format(noun=nouns[i], verb=verbs[i], title=title)\n",
        "            questions.append(question)\n",
        "            additional_questions += 1\n",
        "\n",
        "    return questions"
      ],
      "metadata": {
        "id": "CmAkjWvVVxgr"
      },
      "execution_count": null,
      "outputs": []
    },
    {
      "cell_type": "code",
      "source": [
        "new_rows = []\n",
        "\n",
        "for index, row in df.iterrows():\n",
        "    # Chia đoạn văn Detailed Content thành các câu\n",
        "    sentences = split_into_sentences(row['Detailed Content'])\n",
        "\n",
        "    # Duyệt qua từng câu trong Detailed Content\n",
        "    for sentence in sentences:\n",
        "        # Lấy các từ khóa từ câu\n",
        "        keywords = extract_keywords(sentence, top_words)\n",
        "\n",
        "        # Phân loại từ theo POS, kiểm tra kiểu dữ liệu\n",
        "        nouns = [word for word, pos in keywords if isinstance((word, pos), tuple) and pos.startswith('N')]\n",
        "        verbs = [word for word, pos in keywords if isinstance((word, pos), tuple) and pos.startswith('V')]\n",
        "        adjectives = [word for word, pos in keywords if isinstance((word, pos), tuple) and pos.startswith('A')]\n",
        "        pronouns = [word for word, pos in keywords if isinstance((word, pos), tuple) and pos.startswith('P')]\n",
        "\n",
        "        # Nối tất cả các từ khóa lại\n",
        "        all_keywords = nouns + verbs + adjectives + pronouns\n",
        "\n",
        "        # Tạo câu hỏi từ từ khóa\n",
        "        questions = generate_questions_with_title({\n",
        "            'nouns': nouns,\n",
        "            'verbs': verbs,\n",
        "            'adjectives': adjectives,\n",
        "            'pronouns': pronouns\n",
        "        }, row['Title'], top_words)\n",
        "\n",
        "        # Tìm vị trí start và end của câu trả lời trong đoạn Detailed Content\n",
        "        answer_start = row['Detailed Content'].find(sentence)\n",
        "        answer_end = answer_start + len(sentence)\n",
        "\n",
        "        # Thêm từng câu hỏi vào DataFrame\n",
        "        for question in questions:\n",
        "            new_rows.append({\n",
        "                'Title': row['Title'],\n",
        "                'Detailed Content': row['Detailed Content'],\n",
        "                'Answer': sentence,\n",
        "                'Keywords': ', '.join(all_keywords),\n",
        "                'Question': question,\n",
        "                'Answer_Start': answer_start,\n",
        "                'Answer_End': answer_end,\n",
        "                'Reference Link': row['Reference Link']\n",
        "            })\n",
        "\n",
        "# Chuyển đổi danh sách các câu thành DataFrame mới\n",
        "new_df = pd.DataFrame(new_rows)\n",
        "\n",
        "# Hiển thị DataFrame kết quả\n",
        "new_df.head()\n"
      ],
      "metadata": {
        "colab": {
          "base_uri": "https://localhost:8080/",
          "height": 571
        },
        "id": "8BUZGIodQqFh",
        "outputId": "57e7e509-a24f-4b45-c523-f00704811cce"
      },
      "execution_count": null,
      "outputs": [
        {
          "output_type": "execute_result",
          "data": {
            "text/plain": [
              "                                          Title  \\\n",
              "0  rào_cản tự_nhiên chống lại nhiễm_trùng về da   \n",
              "1  rào_cản tự_nhiên chống lại nhiễm_trùng về da   \n",
              "2  rào_cản tự_nhiên chống lại nhiễm_trùng về da   \n",
              "3  rào_cản tự_nhiên chống lại nhiễm_trùng về da   \n",
              "4  rào_cản tự_nhiên chống lại nhiễm_trùng về da   \n",
              "\n",
              "                                    Detailed Content  \\\n",
              "0  da thường chặn các vi_sinh_vật xâm_nhập trừ kh...   \n",
              "1  da thường chặn các vi_sinh_vật xâm_nhập trừ kh...   \n",
              "2  da thường chặn các vi_sinh_vật xâm_nhập trừ kh...   \n",
              "3  da thường chặn các vi_sinh_vật xâm_nhập trừ kh...   \n",
              "4  da thường chặn các vi_sinh_vật xâm_nhập trừ kh...   \n",
              "\n",
              "                                              Answer  \\\n",
              "0  da thường chặn các vi_sinh_vật xâm_nhập trừ kh...   \n",
              "1  da thường chặn các vi_sinh_vật xâm_nhập trừ kh...   \n",
              "2  da thường chặn các vi_sinh_vật xâm_nhập trừ kh...   \n",
              "3  các ngoại_lệ bao_gồm virus papilloma_người có_...   \n",
              "4  các ngoại_lệ bao_gồm virus papilloma_người có_...   \n",
              "\n",
              "                                            Keywords  \\\n",
              "0  da, vi_sinh_vật, động_vật, ống, iv, chặn, xâm_...   \n",
              "1  da, vi_sinh_vật, động_vật, ống, iv, chặn, xâm_...   \n",
              "2  da, vi_sinh_vật, động_vật, ống, iv, chặn, xâm_...   \n",
              "3  ngoại_lệ, virus, papilloma_người, da, mụn, cóc...   \n",
              "4  ngoại_lệ, virus, papilloma_người, da, mụn, cóc...   \n",
              "\n",
              "                                            Question  Answer_Start  \\\n",
              "0  Liệu da có vai trò gì trong rào_cản tự_nhiên c...             0   \n",
              "1  Tại sao vi_sinh_vật lại xâm_nhập trong bối cản...             0   \n",
              "2  trừ động_vật có ảnh hưởng như thế nào đến rào_...             0   \n",
              "3  Sự kết hợp giữa ngoại_lệ và ngoại_lệ có thể ba...           140   \n",
              "4  Tại sao virus lại cần xâm_nhập trong rào_cản t...           140   \n",
              "\n",
              "   Answer_End                                     Reference Link  \n",
              "0         139  https://www.msdmanuals.com/vi-vn/professional/...  \n",
              "1         139  https://www.msdmanuals.com/vi-vn/professional/...  \n",
              "2         139  https://www.msdmanuals.com/vi-vn/professional/...  \n",
              "3         479  https://www.msdmanuals.com/vi-vn/professional/...  \n",
              "4         479  https://www.msdmanuals.com/vi-vn/professional/...  "
            ],
            "text/html": [
              "\n",
              "  <div id=\"df-875d3197-999d-4a70-8c11-c7f94a8d9d91\" class=\"colab-df-container\">\n",
              "    <div>\n",
              "<style scoped>\n",
              "    .dataframe tbody tr th:only-of-type {\n",
              "        vertical-align: middle;\n",
              "    }\n",
              "\n",
              "    .dataframe tbody tr th {\n",
              "        vertical-align: top;\n",
              "    }\n",
              "\n",
              "    .dataframe thead th {\n",
              "        text-align: right;\n",
              "    }\n",
              "</style>\n",
              "<table border=\"1\" class=\"dataframe\">\n",
              "  <thead>\n",
              "    <tr style=\"text-align: right;\">\n",
              "      <th></th>\n",
              "      <th>Title</th>\n",
              "      <th>Detailed Content</th>\n",
              "      <th>Answer</th>\n",
              "      <th>Keywords</th>\n",
              "      <th>Question</th>\n",
              "      <th>Answer_Start</th>\n",
              "      <th>Answer_End</th>\n",
              "      <th>Reference Link</th>\n",
              "    </tr>\n",
              "  </thead>\n",
              "  <tbody>\n",
              "    <tr>\n",
              "      <th>0</th>\n",
              "      <td>rào_cản tự_nhiên chống lại nhiễm_trùng về da</td>\n",
              "      <td>da thường chặn các vi_sinh_vật xâm_nhập trừ kh...</td>\n",
              "      <td>da thường chặn các vi_sinh_vật xâm_nhập trừ kh...</td>\n",
              "      <td>da, vi_sinh_vật, động_vật, ống, iv, chặn, xâm_...</td>\n",
              "      <td>Liệu da có vai trò gì trong rào_cản tự_nhiên c...</td>\n",
              "      <td>0</td>\n",
              "      <td>139</td>\n",
              "      <td>https://www.msdmanuals.com/vi-vn/professional/...</td>\n",
              "    </tr>\n",
              "    <tr>\n",
              "      <th>1</th>\n",
              "      <td>rào_cản tự_nhiên chống lại nhiễm_trùng về da</td>\n",
              "      <td>da thường chặn các vi_sinh_vật xâm_nhập trừ kh...</td>\n",
              "      <td>da thường chặn các vi_sinh_vật xâm_nhập trừ kh...</td>\n",
              "      <td>da, vi_sinh_vật, động_vật, ống, iv, chặn, xâm_...</td>\n",
              "      <td>Tại sao vi_sinh_vật lại xâm_nhập trong bối cản...</td>\n",
              "      <td>0</td>\n",
              "      <td>139</td>\n",
              "      <td>https://www.msdmanuals.com/vi-vn/professional/...</td>\n",
              "    </tr>\n",
              "    <tr>\n",
              "      <th>2</th>\n",
              "      <td>rào_cản tự_nhiên chống lại nhiễm_trùng về da</td>\n",
              "      <td>da thường chặn các vi_sinh_vật xâm_nhập trừ kh...</td>\n",
              "      <td>da thường chặn các vi_sinh_vật xâm_nhập trừ kh...</td>\n",
              "      <td>da, vi_sinh_vật, động_vật, ống, iv, chặn, xâm_...</td>\n",
              "      <td>trừ động_vật có ảnh hưởng như thế nào đến rào_...</td>\n",
              "      <td>0</td>\n",
              "      <td>139</td>\n",
              "      <td>https://www.msdmanuals.com/vi-vn/professional/...</td>\n",
              "    </tr>\n",
              "    <tr>\n",
              "      <th>3</th>\n",
              "      <td>rào_cản tự_nhiên chống lại nhiễm_trùng về da</td>\n",
              "      <td>da thường chặn các vi_sinh_vật xâm_nhập trừ kh...</td>\n",
              "      <td>các ngoại_lệ bao_gồm virus papilloma_người có_...</td>\n",
              "      <td>ngoại_lệ, virus, papilloma_người, da, mụn, cóc...</td>\n",
              "      <td>Sự kết hợp giữa ngoại_lệ và ngoại_lệ có thể ba...</td>\n",
              "      <td>140</td>\n",
              "      <td>479</td>\n",
              "      <td>https://www.msdmanuals.com/vi-vn/professional/...</td>\n",
              "    </tr>\n",
              "    <tr>\n",
              "      <th>4</th>\n",
              "      <td>rào_cản tự_nhiên chống lại nhiễm_trùng về da</td>\n",
              "      <td>da thường chặn các vi_sinh_vật xâm_nhập trừ kh...</td>\n",
              "      <td>các ngoại_lệ bao_gồm virus papilloma_người có_...</td>\n",
              "      <td>ngoại_lệ, virus, papilloma_người, da, mụn, cóc...</td>\n",
              "      <td>Tại sao virus lại cần xâm_nhập trong rào_cản t...</td>\n",
              "      <td>140</td>\n",
              "      <td>479</td>\n",
              "      <td>https://www.msdmanuals.com/vi-vn/professional/...</td>\n",
              "    </tr>\n",
              "  </tbody>\n",
              "</table>\n",
              "</div>\n",
              "    <div class=\"colab-df-buttons\">\n",
              "\n",
              "  <div class=\"colab-df-container\">\n",
              "    <button class=\"colab-df-convert\" onclick=\"convertToInteractive('df-875d3197-999d-4a70-8c11-c7f94a8d9d91')\"\n",
              "            title=\"Convert this dataframe to an interactive table.\"\n",
              "            style=\"display:none;\">\n",
              "\n",
              "  <svg xmlns=\"http://www.w3.org/2000/svg\" height=\"24px\" viewBox=\"0 -960 960 960\">\n",
              "    <path d=\"M120-120v-720h720v720H120Zm60-500h600v-160H180v160Zm220 220h160v-160H400v160Zm0 220h160v-160H400v160ZM180-400h160v-160H180v160Zm440 0h160v-160H620v160ZM180-180h160v-160H180v160Zm440 0h160v-160H620v160Z\"/>\n",
              "  </svg>\n",
              "    </button>\n",
              "\n",
              "  <style>\n",
              "    .colab-df-container {\n",
              "      display:flex;\n",
              "      gap: 12px;\n",
              "    }\n",
              "\n",
              "    .colab-df-convert {\n",
              "      background-color: #E8F0FE;\n",
              "      border: none;\n",
              "      border-radius: 50%;\n",
              "      cursor: pointer;\n",
              "      display: none;\n",
              "      fill: #1967D2;\n",
              "      height: 32px;\n",
              "      padding: 0 0 0 0;\n",
              "      width: 32px;\n",
              "    }\n",
              "\n",
              "    .colab-df-convert:hover {\n",
              "      background-color: #E2EBFA;\n",
              "      box-shadow: 0px 1px 2px rgba(60, 64, 67, 0.3), 0px 1px 3px 1px rgba(60, 64, 67, 0.15);\n",
              "      fill: #174EA6;\n",
              "    }\n",
              "\n",
              "    .colab-df-buttons div {\n",
              "      margin-bottom: 4px;\n",
              "    }\n",
              "\n",
              "    [theme=dark] .colab-df-convert {\n",
              "      background-color: #3B4455;\n",
              "      fill: #D2E3FC;\n",
              "    }\n",
              "\n",
              "    [theme=dark] .colab-df-convert:hover {\n",
              "      background-color: #434B5C;\n",
              "      box-shadow: 0px 1px 3px 1px rgba(0, 0, 0, 0.15);\n",
              "      filter: drop-shadow(0px 1px 2px rgba(0, 0, 0, 0.3));\n",
              "      fill: #FFFFFF;\n",
              "    }\n",
              "  </style>\n",
              "\n",
              "    <script>\n",
              "      const buttonEl =\n",
              "        document.querySelector('#df-875d3197-999d-4a70-8c11-c7f94a8d9d91 button.colab-df-convert');\n",
              "      buttonEl.style.display =\n",
              "        google.colab.kernel.accessAllowed ? 'block' : 'none';\n",
              "\n",
              "      async function convertToInteractive(key) {\n",
              "        const element = document.querySelector('#df-875d3197-999d-4a70-8c11-c7f94a8d9d91');\n",
              "        const dataTable =\n",
              "          await google.colab.kernel.invokeFunction('convertToInteractive',\n",
              "                                                    [key], {});\n",
              "        if (!dataTable) return;\n",
              "\n",
              "        const docLinkHtml = 'Like what you see? Visit the ' +\n",
              "          '<a target=\"_blank\" href=https://colab.research.google.com/notebooks/data_table.ipynb>data table notebook</a>'\n",
              "          + ' to learn more about interactive tables.';\n",
              "        element.innerHTML = '';\n",
              "        dataTable['output_type'] = 'display_data';\n",
              "        await google.colab.output.renderOutput(dataTable, element);\n",
              "        const docLink = document.createElement('div');\n",
              "        docLink.innerHTML = docLinkHtml;\n",
              "        element.appendChild(docLink);\n",
              "      }\n",
              "    </script>\n",
              "  </div>\n",
              "\n",
              "\n",
              "<div id=\"df-d6fcec63-2a7b-43bf-92e7-02959a3586f8\">\n",
              "  <button class=\"colab-df-quickchart\" onclick=\"quickchart('df-d6fcec63-2a7b-43bf-92e7-02959a3586f8')\"\n",
              "            title=\"Suggest charts\"\n",
              "            style=\"display:none;\">\n",
              "\n",
              "<svg xmlns=\"http://www.w3.org/2000/svg\" height=\"24px\"viewBox=\"0 0 24 24\"\n",
              "     width=\"24px\">\n",
              "    <g>\n",
              "        <path d=\"M19 3H5c-1.1 0-2 .9-2 2v14c0 1.1.9 2 2 2h14c1.1 0 2-.9 2-2V5c0-1.1-.9-2-2-2zM9 17H7v-7h2v7zm4 0h-2V7h2v10zm4 0h-2v-4h2v4z\"/>\n",
              "    </g>\n",
              "</svg>\n",
              "  </button>\n",
              "\n",
              "<style>\n",
              "  .colab-df-quickchart {\n",
              "      --bg-color: #E8F0FE;\n",
              "      --fill-color: #1967D2;\n",
              "      --hover-bg-color: #E2EBFA;\n",
              "      --hover-fill-color: #174EA6;\n",
              "      --disabled-fill-color: #AAA;\n",
              "      --disabled-bg-color: #DDD;\n",
              "  }\n",
              "\n",
              "  [theme=dark] .colab-df-quickchart {\n",
              "      --bg-color: #3B4455;\n",
              "      --fill-color: #D2E3FC;\n",
              "      --hover-bg-color: #434B5C;\n",
              "      --hover-fill-color: #FFFFFF;\n",
              "      --disabled-bg-color: #3B4455;\n",
              "      --disabled-fill-color: #666;\n",
              "  }\n",
              "\n",
              "  .colab-df-quickchart {\n",
              "    background-color: var(--bg-color);\n",
              "    border: none;\n",
              "    border-radius: 50%;\n",
              "    cursor: pointer;\n",
              "    display: none;\n",
              "    fill: var(--fill-color);\n",
              "    height: 32px;\n",
              "    padding: 0;\n",
              "    width: 32px;\n",
              "  }\n",
              "\n",
              "  .colab-df-quickchart:hover {\n",
              "    background-color: var(--hover-bg-color);\n",
              "    box-shadow: 0 1px 2px rgba(60, 64, 67, 0.3), 0 1px 3px 1px rgba(60, 64, 67, 0.15);\n",
              "    fill: var(--button-hover-fill-color);\n",
              "  }\n",
              "\n",
              "  .colab-df-quickchart-complete:disabled,\n",
              "  .colab-df-quickchart-complete:disabled:hover {\n",
              "    background-color: var(--disabled-bg-color);\n",
              "    fill: var(--disabled-fill-color);\n",
              "    box-shadow: none;\n",
              "  }\n",
              "\n",
              "  .colab-df-spinner {\n",
              "    border: 2px solid var(--fill-color);\n",
              "    border-color: transparent;\n",
              "    border-bottom-color: var(--fill-color);\n",
              "    animation:\n",
              "      spin 1s steps(1) infinite;\n",
              "  }\n",
              "\n",
              "  @keyframes spin {\n",
              "    0% {\n",
              "      border-color: transparent;\n",
              "      border-bottom-color: var(--fill-color);\n",
              "      border-left-color: var(--fill-color);\n",
              "    }\n",
              "    20% {\n",
              "      border-color: transparent;\n",
              "      border-left-color: var(--fill-color);\n",
              "      border-top-color: var(--fill-color);\n",
              "    }\n",
              "    30% {\n",
              "      border-color: transparent;\n",
              "      border-left-color: var(--fill-color);\n",
              "      border-top-color: var(--fill-color);\n",
              "      border-right-color: var(--fill-color);\n",
              "    }\n",
              "    40% {\n",
              "      border-color: transparent;\n",
              "      border-right-color: var(--fill-color);\n",
              "      border-top-color: var(--fill-color);\n",
              "    }\n",
              "    60% {\n",
              "      border-color: transparent;\n",
              "      border-right-color: var(--fill-color);\n",
              "    }\n",
              "    80% {\n",
              "      border-color: transparent;\n",
              "      border-right-color: var(--fill-color);\n",
              "      border-bottom-color: var(--fill-color);\n",
              "    }\n",
              "    90% {\n",
              "      border-color: transparent;\n",
              "      border-bottom-color: var(--fill-color);\n",
              "    }\n",
              "  }\n",
              "</style>\n",
              "\n",
              "  <script>\n",
              "    async function quickchart(key) {\n",
              "      const quickchartButtonEl =\n",
              "        document.querySelector('#' + key + ' button');\n",
              "      quickchartButtonEl.disabled = true;  // To prevent multiple clicks.\n",
              "      quickchartButtonEl.classList.add('colab-df-spinner');\n",
              "      try {\n",
              "        const charts = await google.colab.kernel.invokeFunction(\n",
              "            'suggestCharts', [key], {});\n",
              "      } catch (error) {\n",
              "        console.error('Error during call to suggestCharts:', error);\n",
              "      }\n",
              "      quickchartButtonEl.classList.remove('colab-df-spinner');\n",
              "      quickchartButtonEl.classList.add('colab-df-quickchart-complete');\n",
              "    }\n",
              "    (() => {\n",
              "      let quickchartButtonEl =\n",
              "        document.querySelector('#df-d6fcec63-2a7b-43bf-92e7-02959a3586f8 button');\n",
              "      quickchartButtonEl.style.display =\n",
              "        google.colab.kernel.accessAllowed ? 'block' : 'none';\n",
              "    })();\n",
              "  </script>\n",
              "</div>\n",
              "\n",
              "    </div>\n",
              "  </div>\n"
            ],
            "application/vnd.google.colaboratory.intrinsic+json": {
              "type": "dataframe",
              "variable_name": "new_df"
            }
          },
          "metadata": {},
          "execution_count": 73
        }
      ]
    },
    {
      "cell_type": "code",
      "source": [
        "new_df.shape"
      ],
      "metadata": {
        "colab": {
          "base_uri": "https://localhost:8080/"
        },
        "id": "TN3Q-VeAQqIB",
        "outputId": "f133b6d5-4453-436b-8bf2-d64b4be1344b"
      },
      "execution_count": null,
      "outputs": [
        {
          "output_type": "execute_result",
          "data": {
            "text/plain": [
              "(164289, 8)"
            ]
          },
          "metadata": {},
          "execution_count": 76
        }
      ]
    },
    {
      "cell_type": "code",
      "source": [
        "# Lưu DataFrame vào file CSV\n",
        "new_df.to_csv('/content/drive/MyDrive/ChatBox/data/processed_medical_full.csv', index=False, encoding='utf-8')"
      ],
      "metadata": {
        "id": "BDcX-MJxQqLa"
      },
      "execution_count": null,
      "outputs": []
    }
  ]
}